{
 "cells": [
  {
   "cell_type": "code",
   "execution_count": 1,
   "id": "b146f68b-bb4d-40f9-8abd-7fa935874be4",
   "metadata": {},
   "outputs": [],
   "source": [
    "import numpy as np\n",
    "from PIL import Image\n",
    "import cv2\n",
    "from typing import Literal\n",
    "from datetime import datetime\n",
    "import pandas as pd\n",
    "\n",
    "from harris import harris\n",
    "from susan import susan\n",
    "from matching import imp_match, get_feature_hus"
   ]
  },
  {
   "cell_type": "code",
   "execution_count": 39,
   "id": "f553a82b-7f7f-41c5-942d-b33eea916f28",
   "metadata": {},
   "outputs": [],
   "source": [
    "img1 = cv2.imread('images/plane.jpeg',cv2.IMREAD_GRAYSCALE)\n",
    "img2 = cv2.imread('images/plane_90deg.jpeg',cv2.IMREAD_GRAYSCALE)"
   ]
  },
  {
   "cell_type": "code",
   "execution_count": 40,
   "id": "4e31e82a-33fa-473b-ac76-a17ef89be209",
   "metadata": {},
   "outputs": [],
   "source": [
    "hu1 = get_feature_hus(img1)\n",
    "hu2 = get_feature_hus(img2)"
   ]
  },
  {
   "cell_type": "code",
   "execution_count": null,
   "id": "a2241a0d-13bb-4e7d-be6f-0dd50361cf86",
   "metadata": {},
   "outputs": [],
   "source": [
    "indices1 = []\n",
    "indices2 = []\n",
    "hu1s = []\n",
    "hu2s = []\n",
    "ratios = np.zeros(hu1['hus'].shape)\n",
    "\n",
    "for i, hus1 in enumerate(hu1['hus']):\n",
    "    distances = np.zeros(hu2['hus'].shape)\n",
    "    for k, hus2 in enumerate(hu2['hus']):\n",
    "        v = hus2 - hus1\n",
    "        distances[k] = v[0,0]**2+v[1,0]**2+v[2,0]**2+v[3,0]**2+v[4,0]**2+v[5,0]**2+v[6,0]**2\n",
    "    min_index = np.argmin(distances)\n",
    "    min_val = np.min(distances)\n",
    "    distances[min_index] = np.inf\n",
    "    second_min_index = np.argmin(distances)\n",
    "    second_min_val = np.min(distances)\n",
    "    \n",
    "    ratios[i] = np.sqrt(min_val / second_min_val)\n",
    "    \n",
    "    indices1.append([hu1['rows'][i], hu1['cols'][i]])\n",
    "    indices2.append([hu2['rows'][min_index], hu2['cols'][min_index]])\n",
    "    hu1s.append(hus1)\n",
    "    hu2s.append(min_val)"
   ]
  },
  {
   "cell_type": "code",
   "execution_count": null,
   "id": "b6fff795-ba5c-41b7-8c65-d55576bf77d5",
   "metadata": {},
   "outputs": [],
   "source": [
    "df = pd.DataFrame({\n",
    "    'index1': indices1,\n",
    "    'index2': indices2,\n",
    "    'hu1s': hu1s,\n",
    "    'hu2s': hu2s,\n",
    "    'ratios': ratios\n",
    "})\n",
    "print(df)"
   ]
  },
  {
   "cell_type": "code",
   "execution_count": null,
   "id": "2f2031c3-0ae5-4e2c-95e8-42811ea5cf1a",
   "metadata": {},
   "outputs": [],
   "source": [
    "def get_one_image(img_list):\n",
    "    max_width = 0\n",
    "    total_height = 200  # padding\n",
    "    for img in img_list:\n",
    "        if img.shape[1] > max_width:\n",
    "            max_width = img.shape[1]\n",
    "        total_height += img.shape[0]\n",
    "\n",
    "    # create a new array with a size large enough to contain all the images\n",
    "    final_image = np.zeros((total_height, max_width), dtype=np.uint8)\n",
    "\n",
    "    current_y = 0  # keep track of where your current image was last placed in the y coordinate\n",
    "    for image in img_list:\n",
    "        # add an image to the final array and increment the y coordinate\n",
    "        image = np.hstack((image, np.zeros((image.shape[0], max_width - image.shape[1]))))\n",
    "        final_image[current_y:current_y + image.shape[0], :] = image\n",
    "        current_y += image.shape[0]\n",
    "    return final_image"
   ]
  },
  {
   "cell_type": "code",
   "execution_count": null,
   "id": "c242d707-76a5-40f5-96c3-4262d6c9ace1",
   "metadata": {},
   "outputs": [],
   "source": [
    "mean = np.mean(df['ratios'][df['ratios'] > -np.inf])\n",
    "if np.isnan(mean):\n",
    "    mean = 0\n",
    "print(mean)\n",
    "std = np.std(df['ratios'])\n",
    "goods = df[df['ratios'] < (mean * 10**(-4)) ]\n",
    "first_ind = goods['index1']\n",
    "second_ind = goods['index2']\n",
    "\n",
    "output = get_one_image([img1,img2])\n",
    "offset = img1.shape[0]\n",
    "print(offset)"
   ]
  },
  {
   "cell_type": "code",
   "execution_count": null,
   "id": "8dd3e158-c495-4e8a-9802-c91547e89f34",
   "metadata": {},
   "outputs": [],
   "source": [
    "import matplotlib.pyplot as plt\n",
    "img = output[:,:]\n",
    "img = cv2.cvtColor(img, cv2.COLOR_GRAY2RGB)\n",
    "for i, ind1 in enumerate(first_ind):\n",
    "    try:\n",
    "        r = np.random.randint(255)\n",
    "        g = np.random.randint(255)\n",
    "        b = np.random.randint(255)\n",
    "        img = cv2.line(img, (first_ind[i][1], first_ind[i][0]), (second_ind[i][1], second_ind[i][0] + offset), (r,g,b), 1)\n",
    "    except KeyError:\n",
    "        continue\n",
    "#img = cv2.line(img, (0,0), (1600, 60), (0,0,0), 10)\n",
    "plt.rcParams['figure.figsize'] = [70, 35]\n",
    "plt.imshow(img)"
   ]
  },
  {
   "cell_type": "code",
   "execution_count": null,
   "id": "8f66f8fb-58eb-4f1e-b647-4e20e5f1e18b",
   "metadata": {},
   "outputs": [],
   "source": []
  }
 ],
 "metadata": {
  "kernelspec": {
   "display_name": "Python 3 (ipykernel)",
   "language": "python",
   "name": "python3"
  },
  "language_info": {
   "codemirror_mode": {
    "name": "ipython",
    "version": 3
   },
   "file_extension": ".py",
   "mimetype": "text/x-python",
   "name": "python",
   "nbconvert_exporter": "python",
   "pygments_lexer": "ipython3",
   "version": "3.10.1"
  }
 },
 "nbformat": 4,
 "nbformat_minor": 5
}
